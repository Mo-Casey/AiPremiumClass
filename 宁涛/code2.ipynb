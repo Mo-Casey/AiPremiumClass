{
 "cells": [
  {
   "cell_type": "code",
   "execution_count": 2,
   "metadata": {},
   "outputs": [],
   "source": [
    "from sklearn.datasets import make_classification\n",
    "from sklearn.model_selection import train_test_split\n",
    "import numpy as np"
   ]
  },
  {
   "cell_type": "code",
   "execution_count": null,
   "metadata": {},
   "outputs": [],
   "source": [
    "X,y = make_classification(n_samples=150, n_features=10) #生成训练数据\n",
    "X_train, X_test, y_train, y_test = train_test_split(X, y, test_size=0.3) #划分数据"
   ]
  },
  {
   "cell_type": "code",
   "execution_count": null,
   "metadata": {},
   "outputs": [],
   "source": [
    "#权重参数\n",
    "thete = np.random.randn(1,10) \n",
    "bias = 0 \n",
    "#超参数\n",
    "lr = 0.01\n",
    "epochs = 1000 #训练次数"
   ]
  },
  {
   "cell_type": "code",
   "execution_count": null,
   "metadata": {},
   "outputs": [],
   "source": [
    "def forward(x, theta, bias):\n",
    "    #线性运算\n",
    "    z = np.dot(theta,x.T) + bias\n",
    "    #sigmoid\n",
    "    y_hat = 1 / (1 + np.exp(-z))\n",
    "    return y_hat\n",
    "#计算损失函数\n",
    "def loss(y, y_hat):\n",
    "    e = 1e-8;\n",
    "    return - y * np.log(y_hat + e) + (1 - y) * np.log(1 - y_hat + e)\n",
    "#计算梯度\n",
    "def calc_gradient(x, y, y_hat):\n",
    "    m = x.shape[-1]\n",
    "    delta_theta = np.dot((y_hat - y), x) / m\n",
    "    delta_bias = np.mean(y_hat - y)\n",
    "    return delta_theta, delta_bias"
   ]
  },
  {
   "cell_type": "code",
   "execution_count": null,
   "metadata": {},
   "outputs": [],
   "source": []
  }
 ],
 "metadata": {
  "kernelspec": {
   "display_name": "Python 3",
   "language": "python",
   "name": "python3"
  },
  "language_info": {
   "codemirror_mode": {
    "name": "ipython",
    "version": 3
   },
   "file_extension": ".py",
   "mimetype": "text/x-python",
   "name": "python",
   "nbconvert_exporter": "python",
   "pygments_lexer": "ipython3",
   "version": "3.12.8"
  }
 },
 "nbformat": 4,
 "nbformat_minor": 2
}
