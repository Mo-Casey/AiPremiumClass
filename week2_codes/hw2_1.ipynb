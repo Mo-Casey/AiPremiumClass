{
 "cells": [
  {
   "cell_type": "markdown",
   "metadata": {},
   "source": [
    "#### 调整学习率，观察模型训练结果"
   ]
  },
  {
   "cell_type": "code",
   "execution_count": 1,
   "metadata": {},
   "outputs": [],
   "source": [
    "from sklearn.datasets import load_iris\n",
    "from sklearn.model_selection import train_test_split\n",
    "import numpy as np"
   ]
  },
  {
   "cell_type": "code",
   "execution_count": 2,
   "metadata": {},
   "outputs": [],
   "source": [
    "# 1. 生成训练数据\n",
    "X,y = load_iris(return_X_y=True)\n",
    "\n",
    "X = X[:100]\n",
    "y = y[:100]\n",
    "\n",
    "# 数据拆分\n",
    "# 局部样本训练模型（过拟合模型）测试预测不好\n",
    "# 新样本数据模型表现不好（泛化能力差）\n",
    "X_train, X_test, y_train, y_test = train_test_split(X, y, test_size=0.2)\n"
   ]
  },
  {
   "cell_type": "code",
   "execution_count": null,
   "metadata": {},
   "outputs": [],
   "source": [
    "\n",
    "# 超参数\n",
    "lrs = [0.1, 0.01, 0.001]  # 学习率\n",
    "epochs = 500  # 训练次数"
   ]
  },
  {
   "cell_type": "code",
   "execution_count": 6,
   "metadata": {},
   "outputs": [
    {
     "name": "stdout",
     "output_type": "stream",
     "text": [
      "lr:0.1 epoch: 0, loss: 0.8560599991079674, acc: 0.4125\n",
      "lr:0.1 epoch: 100, loss: 0.0030500690514771228, acc: 1.0\n",
      "lr:0.1 epoch: 200, loss: 0.001934480542487152, acc: 1.0\n",
      "lr:0.1 epoch: 300, loss: 0.0014304674447868416, acc: 1.0\n",
      "lr:0.1 epoch: 400, loss: 0.0011406557240241646, acc: 1.0\n",
      "**************************************************\n",
      "lr:0.01 epoch: 0, loss: 0.4657803097517519, acc: 0.6125\n",
      "lr:0.01 epoch: 100, loss: 0.03209380679347973, acc: 1.0\n",
      "lr:0.01 epoch: 200, loss: 0.017850685733026436, acc: 1.0\n",
      "lr:0.01 epoch: 300, loss: 0.012538388470126274, acc: 1.0\n",
      "lr:0.01 epoch: 400, loss: 0.00973367687661498, acc: 1.0\n",
      "**************************************************\n",
      "lr:0.001 epoch: 0, loss: 5.894750471071206, acc: 0.5125\n",
      "lr:0.001 epoch: 100, loss: 0.30976638428626463, acc: 1.0\n",
      "lr:0.001 epoch: 200, loss: 0.16981533510173516, acc: 1.0\n",
      "lr:0.001 epoch: 300, loss: 0.11587313190347315, acc: 1.0\n",
      "lr:0.001 epoch: 400, loss: 0.08792942997444009, acc: 1.0\n",
      "**************************************************\n"
     ]
    }
   ],
   "source": [
    "# 2. 模型计算函数\n",
    "def forward(x, theta, bias):\n",
    "    # 线性运算\n",
    "    z = np.dot(theta, x.T) + bias \n",
    "    # sigmoid\n",
    "    y_hat = 1 / (1 + np.exp(-z))  \n",
    "    return y_hat\n",
    "\n",
    "# 3. 计算损失函数\n",
    "def loss(y, y_hat):\n",
    "    e = 1e-8\n",
    "    return - y * np.log(y_hat + e) - (1 - y) * np.log(1 - y_hat + e)\n",
    "\n",
    "# 4. 计算梯度\n",
    "def calc_gradient(x,y,y_hat):\n",
    "    # 计算梯度\n",
    "    m = x.shape[-1]\n",
    "    # theta梯度计算\n",
    "    delta_theta = np.dot((y_hat - y), x) / m\n",
    "    # bias梯度计算\n",
    "    delta_bias = np.mean(y_hat - y)\n",
    "    # 返回梯度\n",
    "    return delta_theta, delta_bias\n",
    "\n",
    "# 5. 模型训练\n",
    "for lr in lrs:\n",
    "    # 权重参数\n",
    "    theta = np.random.randn(1,4)  # shape (1, 4)\n",
    "    bias = 0\n",
    "\n",
    "    for i in range(epochs):\n",
    "        # 前向计算\n",
    "        y_hat = forward(X_train, theta, bias)\n",
    "        # 计算损失\n",
    "        loss_val = loss(y_train, y_hat)\n",
    "        # 计算梯度\n",
    "        delta_theta, delta_bias = calc_gradient(X_train, y_train, y_hat)\n",
    "        # 更新参数\n",
    "        theta = theta - lr * delta_theta\n",
    "        bias = bias - lr * delta_bias\n",
    "\n",
    "        if i % 100 == 0:\n",
    "            # 计算准确率\n",
    "            acc = np.mean(np.round(y_hat) == y_train)  # [False,True,...,False] -> [0,1,...,0]\n",
    "            print(f\"lr:{lr} epoch: {i}, loss: {np.mean(loss_val)}, acc: {acc}\")\n",
    "    print('*'*50)"
   ]
  },
  {
   "cell_type": "code",
   "execution_count": 5,
   "metadata": {},
   "outputs": [
    {
     "name": "stdout",
     "output_type": "stream",
     "text": [
      "y: 1, predict: [1.]\n"
     ]
    }
   ],
   "source": [
    "# 模型推理\n",
    "idx = np.random.randint(len(X_test)) # 随机选择一个测试样本索引\n",
    "x = X_test[idx]\n",
    "y = y_test[idx]\n",
    "\n",
    "predict = np.round(forward(x, theta, bias))\n",
    "print(f\"y: {y}, predict: {predict}\")"
   ]
  }
 ],
 "metadata": {
  "kernelspec": {
   "display_name": "base",
   "language": "python",
   "name": "python3"
  },
  "language_info": {
   "codemirror_mode": {
    "name": "ipython",
    "version": 3
   },
   "file_extension": ".py",
   "mimetype": "text/x-python",
   "name": "python",
   "nbconvert_exporter": "python",
   "pygments_lexer": "ipython3",
   "version": "3.11.10"
  }
 },
 "nbformat": 4,
 "nbformat_minor": 2
}
